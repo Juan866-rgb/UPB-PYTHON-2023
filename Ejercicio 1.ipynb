{
 "cells": [
  {
   "cell_type": "markdown",
   "id": "2546c309",
   "metadata": {},
   "source": [
    "# Ejercicio 1 \n",
    "#### Calcula e imprime la media de los siguientes arrays:"
   ]
  },
  {
   "cell_type": "code",
   "execution_count": 6,
   "id": "200623a5",
   "metadata": {},
   "outputs": [
    {
     "name": "stdout",
     "output_type": "stream",
     "text": [
      "6.5\n",
      "10.428571428571429\n",
      "5.0\n"
     ]
    }
   ],
   "source": [
    "store_1 = np.array([2, 5, 8, 3, 4, 10, 15, 5])\n",
    "store_2 = np.array([3, 17, 18, 9, 2, 14, 10])\n",
    "store_3 = np.array([7, 5, 4, 3, 2, 7, 7])\n",
    "print(np.mean(store_1 ))\n",
    "print(np.mean(store_2 ))\n",
    "print(np.mean(store_3 ))"
   ]
  },
  {
   "cell_type": "markdown",
   "id": "272e90f9",
   "metadata": {},
   "source": [
    "# Ejercicio 2 \n",
    "#### Calcula e imprime el porcentaje de estudiantes que se graduaron después del 2005 a partir del siguiente array de fechas de graduación de un grupo de egresados:"
   ]
  },
  {
   "cell_type": "code",
   "execution_count": 23,
   "id": "61a76a80",
   "metadata": {},
   "outputs": [
    {
     "ename": "ValueError",
     "evalue": "Some errors were detected !\n    Line #2 (got 8 columns instead of 93)",
     "output_type": "error",
     "traceback": [
      "\u001b[1;31m---------------------------------------------------------------------------\u001b[0m",
      "\u001b[1;31mValueError\u001b[0m                                Traceback (most recent call last)",
      "\u001b[1;32m~\\AppData\\Local\\Temp\\ipykernel_14532\\3227761797.py\u001b[0m in \u001b[0;36m<module>\u001b[1;34m\u001b[0m\n\u001b[0;32m      1\u001b[0m \u001b[1;32mimport\u001b[0m \u001b[0mnumpy\u001b[0m \u001b[1;32mas\u001b[0m \u001b[0mnp\u001b[0m\u001b[1;33m\u001b[0m\u001b[1;33m\u001b[0m\u001b[0m\n\u001b[1;32m----> 2\u001b[1;33m \u001b[0myears\u001b[0m \u001b[1;33m=\u001b[0m \u001b[0mnp\u001b[0m\u001b[1;33m.\u001b[0m\u001b[0mgenfromtxt\u001b[0m\u001b[1;33m(\u001b[0m\u001b[1;34m'years.csv'\u001b[0m\u001b[1;33m,\u001b[0m \u001b[0mdelimiter\u001b[0m\u001b[1;33m=\u001b[0m\u001b[1;34m','\u001b[0m\u001b[1;33m)\u001b[0m\u001b[1;33m\u001b[0m\u001b[1;33m\u001b[0m\u001b[0m\n\u001b[0m\u001b[0;32m      3\u001b[0m \u001b[0mprint\u001b[0m\u001b[1;33m(\u001b[0m\u001b[0myears\u001b[0m\u001b[1;33m)\u001b[0m\u001b[1;33m\u001b[0m\u001b[1;33m\u001b[0m\u001b[0m\n",
      "\u001b[1;32m~\\Anaconda3\\lib\\site-packages\\numpy\\lib\\npyio.py\u001b[0m in \u001b[0;36mgenfromtxt\u001b[1;34m(fname, dtype, comments, delimiter, skip_header, skip_footer, converters, missing_values, filling_values, usecols, names, excludelist, deletechars, replace_space, autostrip, case_sensitive, defaultfmt, unpack, usemask, loose, invalid_raise, max_rows, encoding, like)\u001b[0m\n\u001b[0;32m   2122\u001b[0m             \u001b[1;31m# Raise an exception ?\u001b[0m\u001b[1;33m\u001b[0m\u001b[1;33m\u001b[0m\u001b[0m\n\u001b[0;32m   2123\u001b[0m             \u001b[1;32mif\u001b[0m \u001b[0minvalid_raise\u001b[0m\u001b[1;33m:\u001b[0m\u001b[1;33m\u001b[0m\u001b[1;33m\u001b[0m\u001b[0m\n\u001b[1;32m-> 2124\u001b[1;33m                 \u001b[1;32mraise\u001b[0m \u001b[0mValueError\u001b[0m\u001b[1;33m(\u001b[0m\u001b[0merrmsg\u001b[0m\u001b[1;33m)\u001b[0m\u001b[1;33m\u001b[0m\u001b[1;33m\u001b[0m\u001b[0m\n\u001b[0m\u001b[0;32m   2125\u001b[0m             \u001b[1;31m# Issue a warning ?\u001b[0m\u001b[1;33m\u001b[0m\u001b[1;33m\u001b[0m\u001b[0m\n\u001b[0;32m   2126\u001b[0m             \u001b[1;32melse\u001b[0m\u001b[1;33m:\u001b[0m\u001b[1;33m\u001b[0m\u001b[1;33m\u001b[0m\u001b[0m\n",
      "\u001b[1;31mValueError\u001b[0m: Some errors were detected !\n    Line #2 (got 8 columns instead of 93)"
     ]
    }
   ],
   "source": [
    "class_year = np.array([1967, 1949, \n",
    "2004, 1997, 1953, 1950, 1958, 1974, \n",
    "1987, 2006, 2013, 1978, 1951, 1998, \n",
    "1996, 1952, 2005, 2007, 2003, 1955, \n",
    "1963, 1978, 2001, 2012, 2014, 1948, \n",
    "1970, 2011, 1962, 1966, 1978, 1988, \n",
    "2006, 1971, 1994, 1978, 1977, 1960, \n",
    "2008, 1965, 1990, 2011, 1962, 1995, \n",
    "2004, 1991, 1952, 2013, 1983, 1955, \n",
    "1957, 1947, 1994, 1978, 1957, 2016, \n",
    "1969, 1996, 1958, 1994, 1958, 2008, \n",
    "1988, 1977, 1991, 1997, 2009, 1976, \n",
    "1999, 1975, 1949, 1985, 2001, 1952, \n",
    "1953, 1949, 2015, 2006, 1996, 2015, \n",
    "2009, 1949, 2004, 2010, 2011, 2001, \n",
    "1998, 1967, 1994, 1966, 1994, 1986, \n",
    "1963, 1954, 1963, 1987, 1992, 2008, \n",
    "1979, 1987]) \n",
    "\n",
    "ordenados= sorted(anios, key=lambda fecha: datetime.datetime.strptime(fecha, 'y'))"
   ]
  },
  {
   "cell_type": "markdown",
   "id": "ffcc3d4c",
   "metadata": {},
   "source": [
    "# Ejercicio 3\n",
    "#### En un experimento donde se estaba probando un nuevo medicamento, este se le fue suministrado a varios pacientes en tres pruebas diferentes. "
   ]
  },
  {
   "cell_type": "code",
   "execution_count": 12,
   "id": "e8283dd9",
   "metadata": {},
   "outputs": [
    {
     "name": "stdout",
     "output_type": "stream",
     "text": [
      "5.266666666666667\n",
      "[4.  5.6 6.2]\n",
      "[4.33333333 3.         4.         8.66666667 6.33333333]\n"
     ]
    }
   ],
   "source": [
    "allergy_trials = np.array([[6, 1, 3, 8, 2],\n",
    "                           [2, 6, 3, 9, 8],\n",
    "                           [5, 2, 6, 9, 9]])\n",
    "total_mean = allergy_trials\n",
    "print(np.mean(allergy_trials))\n",
    "\n",
    "allergy_trials = allergy_trials\n",
    "print(np.mean(allergy_trials, axis=1))\n",
    "\n",
    "patient_mean = allergy_trials\n",
    "print(np.mean(patient_mean, axis=0))"
   ]
  },
  {
   "cell_type": "markdown",
   "id": "a9e49369",
   "metadata": {},
   "source": [
    "# Ejercicio 4\n",
    "#### Se ha tomado la temperatura en Fahrenheit de un experimento, pero se sospecha que algunos de los datos pueden estar equivocados por fallas del equipo. Organice los datos e imprima el array para identificar si esto puede ser cierto."
   ]
  },
  {
   "cell_type": "code",
   "execution_count": 16,
   "id": "dae7b114",
   "metadata": {},
   "outputs": [
    {
     "name": "stdout",
     "output_type": "stream",
     "text": [
      "[ 85  85  85  85  85  86  86  86  86  86  86  86  87  87  87  87  87  87\n",
      "  87  88  88  88  88  88  88  88  88  89  89  90  90  90  90  90  90  90\n",
      "  90  91  91  91  92  92  92  92  92  93  93  93  93  93  94  94  94  94\n",
      "  94  94  94  95  95  96  96  96  96  96  96  97  97  97  97  97  98  98\n",
      "  98  98  98  98  99  99  99  99  99 100 101 101 187 191 195 196 198 199]\n"
     ]
    }
   ],
   "source": [
    "temps = np.array([86, 88, 94, 85, 97, 90, \n",
    "87, 85, 94, 93, 92, 95, 98, 85, 94, 91, 97, \n",
    "88, 87, 86, 99, 89, 89, 99, 88, 96, 93, 96, \n",
    "85, 88, 191, 95, 96, 87, 99, 93, 90, 86, 87, \n",
    "100, 187, 98, 101, 101, 96, 94, 96, 87, 86, \n",
    "92, 98,94, 98, 90, 99, 96, 99, 86, 97, 98, \n",
    "86, 90, 86, 94, 91, 88, 196, 195,93, 97, \n",
    "199, 87, 87, 90, 90, 98, 88, 92, 97, 88, 85, \n",
    "94, 88, 93, 198, 90, 91, 90, 92, 92])\n",
    "\n",
    "organice_temps = np.sort(temps)\n",
    "print(organice_temps)"
   ]
  },
  {
   "cell_type": "markdown",
   "id": "ed4f68e1",
   "metadata": {},
   "source": [
    "# Ejercicio 5\n",
    "#### Calcula e imprime el percentil 30 y 70 del siguiente array:"
   ]
  },
  {
   "cell_type": "code",
   "execution_count": 20,
   "id": "72f1bb79",
   "metadata": {},
   "outputs": [
    {
     "name": "stdout",
     "output_type": "stream",
     "text": [
      "3.0\n",
      "8.0\n"
     ]
    }
   ],
   "source": [
    "patrons = np.array([ 2, 6, 14, 4, 3, 9, 1, 11, 4, 2, 8])\n",
    "print(np.percentile(patrons, 30))\n",
    "print(np.percentile(patrons, 70))"
   ]
  },
  {
   "cell_type": "markdown",
   "id": "726566a6",
   "metadata": {},
   "source": [
    "# Ejercicio 6\n",
    "#### Calcule y compare la media y la desviación estándar de la cantidad de elementos vendidos por día de dos productos diferentes:"
   ]
  },
  {
   "cell_type": "code",
   "execution_count": 15,
   "id": "2c351bca",
   "metadata": {},
   "outputs": [
    {
     "name": "stdout",
     "output_type": "stream",
     "text": [
      "1431.8\n",
      "124.7\n",
      "611.3183785884406\n",
      "87.22505374031019\n"
     ]
    }
   ],
   "source": [
    "import numpy as np\n",
    "#survey_responses=[68, 1820, 1420, 2062, 704, 1156, 1857, 1755, 2092, 1384]\n",
    "#survey_array = np.array(survey_responses)\n",
    "#print(np.mean(survey_array))\n",
    "\n",
    "# Media\n",
    "cookies = np.array([68, 1820, 1420, 2062, 704, 1156, 1857, 1755, 2092, 1384])\n",
    "print(np.mean(cookies))\n",
    "\n",
    "cupcakes = np.array([20, 43, 99, 200, 12, 250, 58, 120, 230, 215])\n",
    "print(np.mean(cupcakes))\n",
    "\n",
    "# Desviación estándar\n",
    "print(np.std(cookies))\n",
    "print(np.std(cupcakes))"
   ]
  },
  {
   "cell_type": "markdown",
   "id": "08a1e7b8",
   "metadata": {},
   "source": [
    "# Ejercicio 8\n",
    "####  CrunchieMunchies"
   ]
  },
  {
   "cell_type": "code",
   "execution_count": 45,
   "id": "6f25038b",
   "metadata": {},
   "outputs": [
    {
     "name": "stdout",
     "output_type": "stream",
     "text": [
      "[ 70. 120.  70.  50. 110. 110. 110. 130.  90.  90. 120. 110. 120. 110.\n",
      " 110. 110. 100. 110. 110. 110. 100. 110. 100. 100. 110. 110. 100. 120.\n",
      " 120. 110. 100. 110. 100. 110. 120. 120. 110. 110. 110. 140. 110. 100.\n",
      " 110. 100. 150. 150. 160. 100. 120. 140.  90. 130. 120. 100.  50.  50.\n",
      " 100. 100. 120. 100.  90. 110. 110.  80.  90.  90. 110. 110.  90. 110.\n",
      " 140. 100. 110. 110. 100. 100. 110.]\n",
      "Media\n",
      "106.88311688311688\n",
      "Datos organizados\n",
      "[ 50.  50.  50.  70.  70.  80.  90.  90.  90.  90.  90.  90.  90. 100.\n",
      " 100. 100. 100. 100. 100. 100. 100. 100. 100. 100. 100. 100. 100. 100.\n",
      " 100. 100. 110. 110. 110. 110. 110. 110. 110. 110. 110. 110. 110. 110.\n",
      " 110. 110. 110. 110. 110. 110. 110. 110. 110. 110. 110. 110. 110. 110.\n",
      " 110. 110. 110. 120. 120. 120. 120. 120. 120. 120. 120. 120. 120. 130.\n",
      " 130. 140. 140. 140. 150. 150. 160.]\n",
      "Mediana\n",
      "110.0\n",
      "Percentil\n",
      "70.0\n",
      "Cereales con más de 60 calorias\n",
      "Desviación estándar\n",
      "19.35718533390827\n"
     ]
    }
   ],
   "source": [
    "import numpy as np\n",
    "\n",
    "calories = np.genfromtxt(' cereal.csv', delimiter=',')\n",
    "print(calories)\n",
    "\n",
    "calorie_stats = calories\n",
    "print(\"Media\")\n",
    "print(np.mean(calorie_stats))\n",
    "\n",
    "CrunchieMunchies = 60\n",
    "comparation = (CrunchieMunchies)\n",
    "\n",
    "average_calories = np.sort(calories)\n",
    "print(\"Datos organizados\")\n",
    "print(average_calories)\n",
    "\n",
    "median_calories = calories \n",
    "print(\"Mediana\")\n",
    "print(np.median(median_calories))\n",
    "\n",
    "nth_percentile = calories\n",
    "print(\"Percentil\")\n",
    "print(np.percentile(nth_percentile, 4))\n",
    "\n",
    "more_calories = calories\n",
    "print(\"Cereales con más de 60 calorias\")\n",
    "\n",
    "calorie_std = calories\n",
    "print(\"Desviación estándar\")\n",
    "print(np.std(calorie_std))\n"
   ]
  },
  {
   "cell_type": "code",
   "execution_count": null,
   "id": "9e838b1a",
   "metadata": {},
   "outputs": [],
   "source": []
  },
  {
   "cell_type": "code",
   "execution_count": null,
   "id": "b1f48f8b",
   "metadata": {},
   "outputs": [],
   "source": []
  }
 ],
 "metadata": {
  "kernelspec": {
   "display_name": "Python 3 (ipykernel)",
   "language": "python",
   "name": "python3"
  },
  "language_info": {
   "codemirror_mode": {
    "name": "ipython",
    "version": 3
   },
   "file_extension": ".py",
   "mimetype": "text/x-python",
   "name": "python",
   "nbconvert_exporter": "python",
   "pygments_lexer": "ipython3",
   "version": "3.9.13"
  }
 },
 "nbformat": 4,
 "nbformat_minor": 5
}
