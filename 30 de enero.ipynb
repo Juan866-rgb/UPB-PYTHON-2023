{
 "cells": [
  {
   "cell_type": "markdown",
   "id": "83ddf476",
   "metadata": {},
   "source": [
    "# Funciones"
   ]
  },
  {
   "cell_type": "code",
   "execution_count": 2,
   "id": "88bd96a9",
   "metadata": {},
   "outputs": [
    {
     "ename": "SyntaxError",
     "evalue": "invalid syntax (Temp/ipykernel_9740/2124367418.py, line 1)",
     "output_type": "error",
     "traceback": [
      "\u001b[1;36m  File \u001b[1;32m\"C:\\Users\\Bette\\AppData\\Local\\Temp/ipykernel_9740/2124367418.py\"\u001b[1;36m, line \u001b[1;32m1\u001b[0m\n\u001b[1;33m    def say_hello(name, city)\u001b[0m\n\u001b[1;37m                             ^\u001b[0m\n\u001b[1;31mSyntaxError\u001b[0m\u001b[1;31m:\u001b[0m invalid syntax\n"
     ]
    }
   ],
   "source": [
    "def say_hello(name, city)\n",
    "print(\"Hola, \" + name)\n",
    "\n",
    "say_hello(\"JEJE\")\n",
    "print(name)"
   ]
  },
  {
   "cell_type": "code",
   "execution_count": 3,
   "id": "8b24c671",
   "metadata": {},
   "outputs": [
    {
     "name": "stdout",
     "output_type": "stream",
     "text": [
      "y\n",
      "o\n",
      "u\n"
     ]
    }
   ],
   "source": [
    "word=\"you\"\n",
    "for letter in word:\n",
    "    print(letter)"
   ]
  },
  {
   "cell_type": "code",
   "execution_count": 4,
   "id": "9bb29250",
   "metadata": {},
   "outputs": [],
   "source": [
    "sentence =\"rdto\"\n"
   ]
  },
  {
   "cell_type": "markdown",
   "id": "91002802",
   "metadata": {},
   "source": [
    "# Ejercicio 1\n"
   ]
  },
  {
   "cell_type": "code",
   "execution_count": 16,
   "id": "dceacae1",
   "metadata": {},
   "outputs": [
    {
     "name": "stdout",
     "output_type": "stream",
     "text": [
      "Escriba a continuacion una oracion: \n",
      "t\n",
      "Escriba a continuacion un nombre: \n",
      "t\n",
      "False\n"
     ]
    }
   ],
   "source": [
    "def is_in_sentence(sentence, name):\n",
    "        return name in sentence\n",
    "deoration = str(input(\"Escriba a continuacion una oracion: \\n\"))\n",
    "name = str(input(\"Escriba a continuacion un nombre: \\n\"))\n",
    "print(is_in_sentence(oration, name))"
   ]
  },
  {
   "cell_type": "code",
   "execution_count": 19,
   "id": "9c924282",
   "metadata": {},
   "outputs": [
    {
     "ename": "SyntaxError",
     "evalue": "invalid syntax (Temp/ipykernel_9740/1711326049.py, line 2)",
     "output_type": "error",
     "traceback": [
      "\u001b[1;36m  File \u001b[1;32m\"C:\\Users\\Bette\\AppData\\Local\\Temp/ipykernel_9740/1711326049.py\"\u001b[1;36m, line \u001b[1;32m2\u001b[0m\n\u001b[1;33m    def random_words()\u001b[0m\n\u001b[1;37m                      ^\u001b[0m\n\u001b[1;31mSyntaxError\u001b[0m\u001b[1;31m:\u001b[0m invalid syntax\n"
     ]
    }
   ],
   "source": [
    "word = \"peso\"\n",
    "def random_words()\n",
    "ran_1=random.randint(word)\n",
    "\n",
    "resp_1 = random_words()\n",
    "print(str(resp_1))"
   ]
  },
  {
   "cell_type": "markdown",
   "id": "6c9932cb",
   "metadata": {},
   "source": [
    "# Ejercicio 2"
   ]
  },
  {
   "cell_type": "code",
   "execution_count": null,
   "id": "fed289a5",
   "metadata": {},
   "outputs": [],
   "source": [
    "def mid_letters(word)\n",
    "new_word=\"\"\n",
    "for i in range(0, len(word), 2):\n",
    "new_word += word[i]\n",
    "return new_word"
   ]
  },
  {
   "cell_type": "code",
   "execution_count": 20,
   "id": "107a530f",
   "metadata": {},
   "outputs": [
    {
     "ename": "NameError",
     "evalue": "name 'mid_letters' is not defined",
     "output_type": "error",
     "traceback": [
      "\u001b[1;31m---------------------------------------------------------------------------\u001b[0m",
      "\u001b[1;31mNameError\u001b[0m                                 Traceback (most recent call last)",
      "\u001b[1;32m~\\AppData\\Local\\Temp/ipykernel_9740/407898706.py\u001b[0m in \u001b[0;36m<module>\u001b[1;34m\u001b[0m\n\u001b[0;32m      1\u001b[0m \u001b[0mmy_word\u001b[0m \u001b[1;33m=\u001b[0m \u001b[1;34m\"murcielago\"\u001b[0m\u001b[1;33m\u001b[0m\u001b[1;33m\u001b[0m\u001b[0m\n\u001b[1;32m----> 2\u001b[1;33m \u001b[0mprint\u001b[0m\u001b[1;33m(\u001b[0m\u001b[0mmid_letters\u001b[0m\u001b[1;33m(\u001b[0m\u001b[0mmy_word\u001b[0m\u001b[1;33m)\u001b[0m\u001b[1;33m)\u001b[0m\u001b[1;33m\u001b[0m\u001b[1;33m\u001b[0m\u001b[0m\n\u001b[0m",
      "\u001b[1;31mNameError\u001b[0m: name 'mid_letters' is not defined"
     ]
    }
   ],
   "source": [
    "my_word = \"murcielago\"\n",
    "print(mid_letters(my_word))"
   ]
  },
  {
   "cell_type": "code",
   "execution_count": null,
   "id": "6548787b",
   "metadata": {},
   "outputs": [],
   "source": [
    "def mid_sentence(sentence):\n",
    "    my_word = sentence.replace(\"\",\"\")\n",
    "    return mid_letters(my_word)"
   ]
  },
  {
   "cell_type": "code",
   "execution_count": 22,
   "id": "219cca20",
   "metadata": {},
   "outputs": [
    {
     "ename": "NameError",
     "evalue": "name 'mid_sentence' is not defined",
     "output_type": "error",
     "traceback": [
      "\u001b[1;31m---------------------------------------------------------------------------\u001b[0m",
      "\u001b[1;31mNameError\u001b[0m                                 Traceback (most recent call last)",
      "\u001b[1;32m~\\AppData\\Local\\Temp/ipykernel_9740/1271282437.py\u001b[0m in \u001b[0;36m<module>\u001b[1;34m\u001b[0m\n\u001b[0;32m      1\u001b[0m \u001b[0mmy_sentence\u001b[0m \u001b[1;33m=\u001b[0m \u001b[1;34m\"honolulu\"\u001b[0m\u001b[1;33m\u001b[0m\u001b[1;33m\u001b[0m\u001b[0m\n\u001b[1;32m----> 2\u001b[1;33m \u001b[0mprint\u001b[0m\u001b[1;33m(\u001b[0m\u001b[0mmid_sentence\u001b[0m\u001b[1;33m(\u001b[0m\u001b[0mmy_sentence\u001b[0m\u001b[1;33m)\u001b[0m\u001b[1;33m)\u001b[0m\u001b[1;33m\u001b[0m\u001b[1;33m\u001b[0m\u001b[0m\n\u001b[0m",
      "\u001b[1;31mNameError\u001b[0m: name 'mid_sentence' is not defined"
     ]
    }
   ],
   "source": [
    "my_sentence = \"honolulu\"\n",
    "print(mid_sentence(my_sentence))\n"
   ]
  },
  {
   "cell_type": "markdown",
   "id": "3085ecde",
   "metadata": {},
   "source": [
    "# Ejercicio 3"
   ]
  },
  {
   "cell_type": "code",
   "execution_count": 30,
   "id": "8c3ce20c",
   "metadata": {},
   "outputs": [
    {
     "name": "stdout",
     "output_type": "stream",
     "text": [
      "oveuh\n"
     ]
    }
   ],
   "source": [
    "word=\"huevo\"\n",
    "def inv_word(word):\n",
    "    return word[::-1]\n",
    "print(inv_word(word))"
   ]
  },
  {
   "cell_type": "code",
   "execution_count": null,
   "id": "edc35d99",
   "metadata": {},
   "outputs": [],
   "source": []
  }
 ],
 "metadata": {
  "kernelspec": {
   "display_name": "Python 3 (ipykernel)",
   "language": "python",
   "name": "python3"
  },
  "language_info": {
   "codemirror_mode": {
    "name": "ipython",
    "version": 3
   },
   "file_extension": ".py",
   "mimetype": "text/x-python",
   "name": "python",
   "nbconvert_exporter": "python",
   "pygments_lexer": "ipython3",
   "version": "3.9.7"
  }
 },
 "nbformat": 4,
 "nbformat_minor": 5
}
