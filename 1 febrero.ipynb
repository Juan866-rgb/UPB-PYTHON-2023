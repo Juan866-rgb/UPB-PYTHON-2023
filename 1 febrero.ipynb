{
 "cells": [
  {
   "cell_type": "markdown",
   "id": "956ff8b3",
   "metadata": {},
   "source": [
    "#  #1"
   ]
  },
  {
   "cell_type": "code",
   "execution_count": null,
   "id": "00e477db",
   "metadata": {},
   "outputs": [],
   "source": [
    "#things(2040: \"Carne\", 1208: \"pollo\", 1313: \"pescado\"<)\n",
    "#A = (input(\": \\n\"))\n",
    "\n",
    "lista = [\"Carne\", \"pollo\", \"pescado\"]\n",
    "def parque(comida):\n",
    "    return{word:len(word) for word in comida}\n",
    "    \n",
    "print(parque(lista))\n"
   ]
  },
  {
   "cell_type": "code",
   "execution_count": null,
   "id": "08db33d4",
   "metadata": {},
   "outputs": [],
   "source": [
    "#A = (input(\": \\n\"))\n",
    "#return{word:st.count(word) for word in lst if word not in lst}\n",
    "\n",
    "def words(lst):\n",
    "   \n",
    "    for i in lst:\n",
    "         dick = {}\n",
    "        if i not in dick:\n",
    "            dick[i]=lst.count(i)\n",
    "    return dick\n",
    "\n",
    "print(words(lst))\n",
    "    \n",
    "    "
   ]
  },
  {
   "cell_type": "markdown",
   "id": "fc08f3f1",
   "metadata": {},
   "source": [
    "# #2"
   ]
  },
  {
   "cell_type": "code",
   "execution_count": null,
   "id": "78ad16af",
   "metadata": {},
   "outputs": [],
   "source": [
    "lst = [\"carne\", \"pollo\", \"pescado\"]\n",
    "def contar(lst):\n",
    "    return{word:st.count(word) for word in lst if word not in lst}\n",
    "print(contar(lst))"
   ]
  },
  {
   "cell_type": "markdown",
   "id": "7a19d3d5",
   "metadata": {},
   "source": [
    "# #3"
   ]
  },
  {
   "cell_type": "code",
   "execution_count": null,
   "id": "fd217590",
   "metadata": {},
   "outputs": [],
   "source": [
    "contador=0\n",
    "dickein = list(lst.values())\n",
    "    for i in dickein:\n",
    "        if dickein.count(i) == 1:\n",
    "    return contador+=1\n",
    "\n",
    "print(contador)"
   ]
  },
  {
   "cell_type": "markdown",
   "id": "11aaa5dc",
   "metadata": {},
   "source": [
    "# #4"
   ]
  },
  {
   "cell_type": "code",
   "execution_count": null,
   "id": "6a426a67",
   "metadata": {},
   "outputs": [],
   "source": [
    "num = [2, 4, 1]\n",
    "def new(lst, num):\n",
    "return{word:len(word) for word in nuevo}\n",
    "  summ = \n",
    "print(summ, num)"
   ]
  },
  {
   "cell_type": "code",
   "execution_count": null,
   "id": "b400116a",
   "metadata": {},
   "outputs": [],
   "source": [
    "lista = [\"Carne\", \"pollo\", \"pescado\"]\n",
    "def parque(comida):\n",
    "    return{word:len(word) for word in comida}\n",
    "    \n",
    "print(parque(lista))"
   ]
  },
  {
   "cell_type": "code",
   "execution_count": null,
   "id": "5bc71d56",
   "metadata": {},
   "outputs": [],
   "source": [
    "hackrrank\n",
    "sum(list)/len(lst)\n"
   ]
  },
  {
   "cell_type": "code",
   "execution_count": null,
   "id": "cbb388da",
   "metadata": {},
   "outputs": [],
   "source": []
  }
 ],
 "metadata": {
  "kernelspec": {
   "display_name": "Python 3 (ipykernel)",
   "language": "python",
   "name": "python3"
  },
  "language_info": {
   "codemirror_mode": {
    "name": "ipython",
    "version": 3
   },
   "file_extension": ".py",
   "mimetype": "text/x-python",
   "name": "python",
   "nbconvert_exporter": "python",
   "pygments_lexer": "ipython3",
   "version": "3.9.7"
  }
 },
 "nbformat": 4,
 "nbformat_minor": 5
}
