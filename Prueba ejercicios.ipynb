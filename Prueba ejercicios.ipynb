{
 "cells": [
  {
   "cell_type": "markdown",
   "id": "4e64686f",
   "metadata": {},
   "source": [
    "# Ejercicio #i\n",
    "\n",
    "Determinar en qué lista se encuentra el numero mas grande entre 2 listas con datos ingresados por el usuario"
   ]
  },
  {
   "cell_type": "code",
   "execution_count": 1,
   "id": "276b0bd7",
   "metadata": {},
   "outputs": [
    {
     "name": "stdout",
     "output_type": "stream",
     "text": [
      "¿Cuántos datos hay en la lista A?: \n",
      "1\n",
      "Ingrese el valor 1 de la lista: 8\n",
      "Lista A: [8]\n",
      "¿Cuántos datos hay en la lista B?: \n",
      "1\n",
      "Ingrese el valor 1 de la lista: 2\n",
      "Lista B: [2]\n",
      "La lista con el número mayor es la lista A\n"
     ]
    }
   ],
   "source": [
    "n_A = int(input(\"¿Cuántos datos hay en la lista A?: \\n\"))\n",
    "A = []\n",
    "for i in range(n_A):\n",
    "    A.append(int(input(\"Ingrese el valor \" + str(i + 1) + \" de la lista: \")))\n",
    "print(\"Lista A: \" + str(A))\n",
    "\n",
    "n_B = int(input(\"¿Cuántos datos hay en la lista B?: \\n\"))\n",
    "B = []\n",
    "for i in range(n_B):\n",
    "    B.append(int(input(\"Ingrese el valor \" + str(i + 1) + \" de la lista: \")))\n",
    "print(\"Lista B: \" + str(B))\n",
    "\n",
    "max_A = 0\n",
    "max_B = 0\n",
    "for a in A:\n",
    "    if a > max_A:\n",
    "        max_A = a\n",
    "for b in B:\n",
    "    if b > max_B:\n",
    "        max_B = b\n",
    "if max_A > max_B:\n",
    "    print(\"La lista con el número mayor es la lista A\")\n",
    "else:\n",
    "    print(\"La lista con el número mayor es la lista B\")"
   ]
  },
  {
   "cell_type": "markdown",
   "id": "7f8e627c",
   "metadata": {},
   "source": [
    "# Ejercicio #i.2\n",
    "\n",
    "Determinar si el numero ingresado se encuentra en la lista"
   ]
  },
  {
   "cell_type": "code",
   "execution_count": 59,
   "id": "3b7ab00e",
   "metadata": {},
   "outputs": [
    {
     "name": "stdout",
     "output_type": "stream",
     "text": [
      "Ingrese un número: \n",
      "4\n",
      "El numero ingresado es: 4\n",
      "El numero ingresado no se encuentra en lista\n"
     ]
    }
   ],
   "source": [
    "B = [4, 6]\n",
    "A = (input(\"Ingrese un número: \\n\"))\n",
    "\n",
    "print('El numero ingresado es: ' + str(A))\n",
    "\n",
    "for i in str(A):\n",
    "    if i != B:\n",
    "        print(\"El numero ingresado no se encuentra en lista\")\n",
    "    else: \n",
    "        print(\"El numero ingresado se encuentra en la lista\")"
   ]
  },
  {
   "cell_type": "markdown",
   "id": "de667169",
   "metadata": {},
   "source": [
    "# Ejercicio #i.3"
   ]
  },
  {
   "cell_type": "code",
   "execution_count": 79,
   "id": "3cd53995",
   "metadata": {},
   "outputs": [
    {
     "name": "stdout",
     "output_type": "stream",
     "text": [
      "¿Cuántos elementos tiene la lista A?: 1\n",
      "Ingrese el valor1 de la lista A: 7\n",
      "\n",
      "¿Cuántos elementos tiene la lista B?: 1\n",
      "Ingrese el valor1 de la lista B:  8\n",
      "\n",
      "Lista A: [7]\n",
      "Lista B: [8]\n",
      "\n",
      "Suma de la lista A: 7\n",
      "Suma de la lista B: 8\n",
      "\n",
      "La suma más grande la tiene la lista B\n"
     ]
    }
   ],
   "source": [
    "n_A = int(input('¿Cuántos elementos tiene la lista A?: '))\n",
    "A = []\n",
    "for i in range(n_A):\n",
    "    A.append(int(input('Ingrese el valor' + str(i + 1) + ' de la lista A: ')))\n",
    "n_B = int(input('\\n¿Cuántos elementos tiene la lista B?: '))\n",
    "B = []\n",
    "for t in range(n_B):\n",
    "    B.append(int(input('Ingrese el valor' + str(t + 1) + ' de la lista B:  '))) \n",
    "print('\\nLista A: ' + str(A))\n",
    "print('Lista B: ' + str(B) + '\\n')\n",
    "sum_A = 0\n",
    "sum_B = 0\n",
    "for i in A:\n",
    "    sum_A = sum_A + i\n",
    "print('Suma de la lista A: ' + str(sum_A))\n",
    "for t in B:\n",
    "    sum_B = sum_B + t \n",
    "print('Suma de la lista B: ' + str(sum_B) + '\\n')    \n",
    "if sum_A > sum_B:\n",
    "    print('La suma más grande la tiene la lista A')\n",
    "elif sum_B > sum_A:\n",
    "    print('La suma más grande la tiene la lista B')\n",
    "else:\n",
    "    print('La suma de la matriz A es igual a la suma de la matriz B')"
   ]
  },
  {
   "cell_type": "markdown",
   "id": "cff5c794",
   "metadata": {},
   "source": [
    "# Ejercicio #1\n",
    "\n",
    "\n",
    "*Determine si un número ingresado por el usuario se encuentra dentro de cierto límite también definido por el usuario.*"
   ]
  },
  {
   "cell_type": "code",
   "execution_count": 76,
   "id": "674f66de",
   "metadata": {},
   "outputs": [
    {
     "name": "stdout",
     "output_type": "stream",
     "text": [
      "¿Cuántos numeros hay en el rango?: \n",
      "2\n",
      "Ingrese el 1 numero del rango: 2\n",
      "Ingrese el 2 numero del rango: 6\n",
      "Lista C: [2, 6]\n",
      "[2, 3, 4, 5]\n",
      "Ingrese un numero para saber si está en rango: \n",
      "3\n"
     ]
    }
   ],
   "source": [
    "n_C = int(input(\"¿Cuántos numeros hay en el rango?: \\n\"))\n",
    "C = []\n",
    "for u in range(n_C):\n",
    "    C.append(int(input(\"Ingrese el \" + str(u + 1) + \" numero del rango: \")))\n",
    "print(\"Lista C: \" + str(C))\n",
    "\n",
    "range_b = range(C)\n",
    "print(list(range_b))\n",
    "\n",
    "E = (input(\"Ingrese un numero para saber si está en rango: \\n\"))\n"
   ]
  },
  {
   "cell_type": "markdown",
   "id": "7d3c5868",
   "metadata": {},
   "source": [
    "# Ejercicio #2\n",
    "\n",
    "Determine si dos nombres ingresados por el usuario son iguales."
   ]
  },
  {
   "cell_type": "code",
   "execution_count": 61,
   "id": "c60d12c7",
   "metadata": {},
   "outputs": [
    {
     "name": "stdout",
     "output_type": "stream",
     "text": [
      "Ingrese el nombre 1: \n",
      "m\n",
      "Ingrese el nombre 2: \n",
      "j\n",
      "Los nombres ingresados son diferentes\n"
     ]
    }
   ],
   "source": [
    "A = (input(\"Ingrese el nombre 1: \\n\"))\n",
    "B = (input(\"Ingrese el nombre 2: \\n\"))\n",
    "\n",
    "if A == B:\n",
    "    print(\"Los nombres ingresados son iguales\")\n",
    "else:\n",
    "    print(\"Los nombres ingresados son diferentes\")"
   ]
  },
  {
   "cell_type": "markdown",
   "id": "505b0554",
   "metadata": {},
   "source": [
    "# Ejercicio #3\n",
    "\n",
    "Determine la calificación de un libro a partir de su rating numérico ingresado por el usuario en tres categorías definidas por usted.\n"
   ]
  },
  {
   "cell_type": "code",
   "execution_count": null,
   "id": "62ee8aae",
   "metadata": {},
   "outputs": [],
   "source": []
  }
 ],
 "metadata": {
  "kernelspec": {
   "display_name": "Python 3 (ipykernel)",
   "language": "python",
   "name": "python3"
  },
  "language_info": {
   "codemirror_mode": {
    "name": "ipython",
    "version": 3
   },
   "file_extension": ".py",
   "mimetype": "text/x-python",
   "name": "python",
   "nbconvert_exporter": "python",
   "pygments_lexer": "ipython3",
   "version": "3.9.7"
  }
 },
 "nbformat": 4,
 "nbformat_minor": 5
}
