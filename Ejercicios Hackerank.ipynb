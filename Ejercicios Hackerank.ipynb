{
 "cells": [
  {
   "cell_type": "code",
   "execution_count": 9,
   "id": "4038d7e2",
   "metadata": {},
   "outputs": [],
   "source": [
    "def print_us(string, k):\n",
    "    n = len(string)\n",
    "    t = []\n",
    "    for i in range(0,n,k):\n",
    "        t.append(string[i:i+k])\n",
    "        \n",
    "    for t_i in t:\n",
    "        u = ''\n",
    "        for char in t_i:\n",
    "            if char not in u:\n",
    "                u += char\n",
    "        print(u)"
   ]
  },
  {
   "cell_type": "code",
   "execution_count": 15,
   "id": "8a70eebd",
   "metadata": {},
   "outputs": [
    {
     "name": "stdout",
     "output_type": "stream",
     "text": [
      "89 es un número impar.\n"
     ]
    }
   ],
   "source": [
    "import random\n",
    "\n",
    "def es_par(num):\n",
    "    return not num & 1\n",
    "\n",
    "num = random.randint(1, 100)\n",
    "if es_par(num):\n",
    "    print(f\"{num} es un número par.\")\n",
    "else:\n",
    "    print(f\"{num} es un número impar.\")"
   ]
  },
  {
   "cell_type": "code",
   "execution_count": 22,
   "id": "bb1e0736",
   "metadata": {},
   "outputs": [
    {
     "name": "stdout",
     "output_type": "stream",
     "text": [
      "Weird\n"
     ]
    }
   ],
   "source": [
    "n = random.randint(1, 100)\n",
    "if n % 2 != 0:\n",
    "    print(\"Weird\")\n",
    "elif n >= 2 and n <= 5:\n",
    "    print(\"Not Weird\")\n",
    "elif n >= 6 and n <= 20:\n",
    "    print(\"Weird\")\n",
    "else:\n",
    "    print(\"Not Weird\")"
   ]
  },
  {
   "cell_type": "code",
   "execution_count": null,
   "id": "9301f273",
   "metadata": {},
   "outputs": [],
   "source": []
  },
  {
   "cell_type": "code",
   "execution_count": null,
   "id": "5885c5fb",
   "metadata": {},
   "outputs": [],
   "source": []
  },
  {
   "cell_type": "code",
   "execution_count": null,
   "id": "f44047bc",
   "metadata": {},
   "outputs": [],
   "source": []
  },
  {
   "cell_type": "code",
   "execution_count": null,
   "id": "aec66f71",
   "metadata": {},
   "outputs": [],
   "source": []
  },
  {
   "cell_type": "code",
   "execution_count": null,
   "id": "23749ccd",
   "metadata": {},
   "outputs": [],
   "source": []
  },
  {
   "cell_type": "code",
   "execution_count": null,
   "id": "0c16a775",
   "metadata": {},
   "outputs": [],
   "source": []
  },
  {
   "cell_type": "code",
   "execution_count": null,
   "id": "bb9da8e2",
   "metadata": {},
   "outputs": [],
   "source": []
  }
 ],
 "metadata": {
  "kernelspec": {
   "display_name": "Python 3 (ipykernel)",
   "language": "python",
   "name": "python3"
  },
  "language_info": {
   "codemirror_mode": {
    "name": "ipython",
    "version": 3
   },
   "file_extension": ".py",
   "mimetype": "text/x-python",
   "name": "python",
   "nbconvert_exporter": "python",
   "pygments_lexer": "ipython3",
   "version": "3.9.7"
  }
 },
 "nbformat": 4,
 "nbformat_minor": 5
}
